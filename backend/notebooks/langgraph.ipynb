{
 "cells": [
  {
   "cell_type": "code",
   "execution_count": 55,
   "metadata": {},
   "outputs": [
    {
     "name": "stdout",
     "output_type": "stream",
     "text": [
      "The autoreload extension is already loaded. To reload it, use:\n",
      "  %reload_ext autoreload\n"
     ]
    }
   ],
   "source": [
    "%load_ext autoreload\n",
    "%autoreload 2"
   ]
  },
  {
   "cell_type": "code",
   "execution_count": 47,
   "metadata": {},
   "outputs": [
    {
     "name": "stdout",
     "output_type": "stream",
     "text": [
      "Recursion limit of 8 reached without hitting a stop condition. You can increase the limit by setting the `recursion_limit` config key.\n",
      "Recursion limit of 8 reached without hitting a stop condition. You can increase the limit by setting the `recursion_limit` config key.\n"
     ]
    }
   ],
   "source": [
    "from functools import partial\n",
    "import os\n",
    "import sqlite3\n",
    "\n",
    "from htw.llm import get_antropic_llm, get_openai_llm\n",
    "from langchain.cache import SQLiteCache\n",
    "from langchain.globals import set_llm_cache\n",
    "from langchain_anthropic import ChatAnthropic\n",
    "from langgraph.checkpoint.sqlite import SqliteSaver\n",
    "\n",
    "from htw.agent.builder import get_agents\n",
    "from htw.graph import build_graphs, compile_graphs, run_graphs\n",
    "\n",
    "# conn = sqlite3.connect(\"/home/laurel/htw_cache/.checkpoints.sqlite\")\n",
    "# memory = SqliteSaver(conn)\n",
    "\n",
    "set_llm_cache(SQLiteCache(database_path=\".langchain.db\"))\n",
    "\n",
    "llm_model_name = \"claude-3-haiku-20240307\"\n",
    "llm_builder = partial(get_antropic_llm, model=llm_model_name)\n",
    "\n",
    "# llm_model_name = \"gpt-3.5-turbo\"\n",
    "# llm_builder = partial(get_openai_llm, model=llm_model_name)\n",
    "\n",
    "agents = get_agents(llm_builder)\n",
    "graph_builders = build_graphs(agents, seed=42)\n",
    "compiled_graphs = compile_graphs(graph_builders, memory=None)\n",
    "all_results = run_graphs(compiled_graphs, verbose=False)"
   ]
  }
 ],
 "metadata": {
  "kernelspec": {
   "display_name": ".venv",
   "language": "python",
   "name": "python3"
  },
  "language_info": {
   "codemirror_mode": {
    "name": "ipython",
    "version": 3
   },
   "file_extension": ".py",
   "mimetype": "text/x-python",
   "name": "python",
   "nbconvert_exporter": "python",
   "pygments_lexer": "ipython3",
   "version": "3.12.1"
  }
 },
 "nbformat": 4,
 "nbformat_minor": 2
}
